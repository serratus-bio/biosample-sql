{
 "cells": [
  {
   "cell_type": "code",
   "execution_count": 1,
   "id": "vocal-theory",
   "metadata": {},
   "outputs": [],
   "source": [
    "import plotly.express as px\n",
    "from aurora import download\n",
    "query = 'select * from biosample_geocode'\n",
    "df = download(query)"
   ]
  },
  {
   "cell_type": "markdown",
   "id": "signed-arrow",
   "metadata": {},
   "source": [
    "# geocoding results"
   ]
  },
  {
   "cell_type": "code",
   "execution_count": 2,
   "id": "champion-airport",
   "metadata": {
    "scrolled": false
   },
   "outputs": [],
   "source": [
    "# plotly bug: plotting on northpole disables hover tooltips\n",
    "df_fix = df[df['geo_text_extracted'] != 'arctic ocean: northpole']\n",
    "\n",
    "def plot():\n",
    "    fig = px.density_mapbox(df_fix,\n",
    "                            lat=\"coordinate_y\", lon=\"coordinate_x\",\n",
    "                            hover_data=[\"coordinate_y\", \"coordinate_x\"],\n",
    "                            hover_name=\"geo_text_extracted\",\n",
    "                            radius=2, zoom=1)\n",
    "    fig.update_layout(mapbox_style=\"open-street-map\")\n",
    "    fig.update_layout(margin={\"r\":0,\"t\":0,\"l\":0,\"b\":0})\n",
    "    fig.write_html(\"plots/geocoded_all.html\")\n",
    "plot()"
   ]
  },
  {
   "cell_type": "markdown",
   "id": "bibliographic-burning",
   "metadata": {},
   "source": [
    "## potential useless labels"
   ]
  },
  {
   "cell_type": "code",
   "execution_count": 3,
   "id": "banner-receptor",
   "metadata": {},
   "outputs": [],
   "source": [
    "import pycountry\n",
    "country_names = {country.name.lower() for country in pycountry.countries}\n",
    "other_valid_geo_keywords = {'usa', 'russia', 'korea', 'nigeria', 'venezuela', 'iran', 'tanzania', 'england', 'cape verde', 'czech republic', 'taiwan', 'kosovo', 'macedonia', 'bolivia'}\n",
    "all_valid_geo_keywords = country_names | other_valid_geo_keywords\n",
    "\n",
    "def has_country(text):\n",
    "    if any(country in text for country in all_valid_geo_keywords):\n",
    "        return True\n",
    "    return False"
   ]
  },
  {
   "cell_type": "code",
   "execution_count": 4,
   "id": "hourly-samba",
   "metadata": {},
   "outputs": [],
   "source": [
    "# get text without valid keyword\n",
    "df_fix = df[df['geo_text_extracted'] != 'arctic ocean: northpole']\n",
    "df_fix = df_fix[~df_fix['geo_text_extracted'].apply(has_country)]\n",
    "\n",
    "def plot():\n",
    "    fig = px.density_mapbox(df_fix,\n",
    "                            lat=\"coordinate_y\", lon=\"coordinate_x\",\n",
    "                            hover_data=[\"coordinate_y\", \"coordinate_x\"],\n",
    "                            hover_name=\"geo_text_extracted\",\n",
    "                            radius=2, zoom=1)\n",
    "    fig.update_layout(mapbox_style=\"open-street-map\")\n",
    "    fig.update_layout(margin={\"r\":0,\"t\":0,\"l\":0,\"b\":0})\n",
    "    fig.write_html(\"plots/geocoded_no_keyword.html\")\n",
    "plot()"
   ]
  }
 ],
 "metadata": {
  "kernelspec": {
   "display_name": "Python 3",
   "language": "python",
   "name": "python3"
  },
  "language_info": {
   "codemirror_mode": {
    "name": "ipython",
    "version": 3
   },
   "file_extension": ".py",
   "mimetype": "text/x-python",
   "name": "python",
   "nbconvert_exporter": "python",
   "pygments_lexer": "ipython3",
   "version": "3.8.5"
  }
 },
 "nbformat": 4,
 "nbformat_minor": 5
}
